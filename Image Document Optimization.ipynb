{
 "cells": [
  {
   "cell_type": "code",
   "execution_count": null,
   "id": "19f08173",
   "metadata": {},
   "outputs": [],
   "source": [
    "pip install --upgrade pip\n"
   ]
  },
  {
   "cell_type": "code",
   "execution_count": null,
   "id": "75186e34",
   "metadata": {},
   "outputs": [],
   "source": [
    "pip install opencv-contrib-python"
   ]
  },
  {
   "cell_type": "code",
   "execution_count": null,
   "id": "462fa838",
   "metadata": {},
   "outputs": [],
   "source": [
    "pip install caer"
   ]
  },
  {
   "cell_type": "code",
   "execution_count": 14,
   "id": "aa25275f",
   "metadata": {},
   "outputs": [
    {
     "name": "stdout",
     "output_type": "stream",
     "text": [
      "Number of Contours found = 76\n"
     ]
    }
   ],
   "source": [
    "import cv2 as cv\n",
    "import numpy as np\n",
    "\n",
    "# image input for program\n",
    "img=cv.imread('document5.jpeg')\n",
    "\n",
    "# image resizing\n",
    "img=cv.resize(img,(480,480))\n",
    "\n",
    "# converting image to grey scale image\n",
    "gray=cv.cvtColor(img,cv.COLOR_BGR2GRAY)\n",
    "\n",
    "#blurring the image\n",
    "blur=cv.GaussianBlur(gray,(5,5),1)\n",
    "\n",
    "#Edge detection using Canny Edge Detector\n",
    "canny=cv.Canny(blur,100,200)\n",
    "\n",
    "contours, hierarchy = cv.findContours(canny, cv.RETR_EXTERNAL, cv.CHAIN_APPROX_NONE)\n",
    "  \n",
    "print(\"Number of Contours found = \" + str(len(contours)))\n",
    "  \n",
    "# Draw all contours\n",
    "# -1 signifies drawing all contours\n",
    "cv.drawContours(img, contours, -1, (0, 255, 0), 3)\n",
    "cv.imshow('Contours',img)\n",
    "cv.imshow('Canny Edges After Contouring', canny)\n",
    "cv.imshow('IMAGE',img)\n",
    "cv.imshow('Edge',canny)\n",
    "cv.waitKey(0)\n",
    "cv.destroyAllWindows()"
   ]
  },
  {
   "cell_type": "code",
   "execution_count": null,
   "id": "fc3ad1be",
   "metadata": {},
   "outputs": [],
   "source": []
  }
 ],
 "metadata": {
  "kernelspec": {
   "display_name": "Python 3 (ipykernel)",
   "language": "python",
   "name": "python3"
  },
  "language_info": {
   "codemirror_mode": {
    "name": "ipython",
    "version": 3
   },
   "file_extension": ".py",
   "mimetype": "text/x-python",
   "name": "python",
   "nbconvert_exporter": "python",
   "pygments_lexer": "ipython3",
   "version": "3.9.7"
  }
 },
 "nbformat": 4,
 "nbformat_minor": 5
}
